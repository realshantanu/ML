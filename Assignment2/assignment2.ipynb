{
 "cells": [
  {
   "cell_type": "code",
   "execution_count": 1,
   "metadata": {
    "tags": []
   },
   "outputs": [],
   "source": [
    "import pandas as pd\n",
    "import numpy as np\n",
    "from sklearn.model_selection import train_test_split\n",
    "from sklearn.linear_model import LinearRegression\n",
    "import matplotlib.pyplot as plt\n",
    "from sklearn.metrics import mean_absolute_error,mean_squared_error,r2_score"
   ]
  },
  {
   "cell_type": "code",
   "execution_count": 2,
   "metadata": {
    "tags": []
   },
   "outputs": [],
   "source": [
    "data = pd.read_csv(\"temperatures.csv\")"
   ]
  },
  {
   "cell_type": "code",
   "execution_count": 3,
   "metadata": {
    "tags": []
   },
   "outputs": [
    {
     "data": {
      "text/html": [
       "<div>\n",
       "<style scoped>\n",
       "    .dataframe tbody tr th:only-of-type {\n",
       "        vertical-align: middle;\n",
       "    }\n",
       "\n",
       "    .dataframe tbody tr th {\n",
       "        vertical-align: top;\n",
       "    }\n",
       "\n",
       "    .dataframe thead th {\n",
       "        text-align: right;\n",
       "    }\n",
       "</style>\n",
       "<table border=\"1\" class=\"dataframe\">\n",
       "  <thead>\n",
       "    <tr style=\"text-align: right;\">\n",
       "      <th></th>\n",
       "      <th>YEAR</th>\n",
       "      <th>JAN</th>\n",
       "      <th>FEB</th>\n",
       "      <th>MAR</th>\n",
       "      <th>APR</th>\n",
       "      <th>MAY</th>\n",
       "      <th>JUN</th>\n",
       "      <th>JUL</th>\n",
       "      <th>AUG</th>\n",
       "      <th>SEP</th>\n",
       "      <th>OCT</th>\n",
       "      <th>NOV</th>\n",
       "      <th>DEC</th>\n",
       "      <th>ANNUAL</th>\n",
       "      <th>JAN-FEB</th>\n",
       "      <th>MAR-MAY</th>\n",
       "      <th>JUN-SEP</th>\n",
       "      <th>OCT-DEC</th>\n",
       "    </tr>\n",
       "  </thead>\n",
       "  <tbody>\n",
       "    <tr>\n",
       "      <th>0</th>\n",
       "      <td>1901</td>\n",
       "      <td>22.40</td>\n",
       "      <td>24.14</td>\n",
       "      <td>29.07</td>\n",
       "      <td>31.91</td>\n",
       "      <td>33.41</td>\n",
       "      <td>33.18</td>\n",
       "      <td>31.21</td>\n",
       "      <td>30.39</td>\n",
       "      <td>30.47</td>\n",
       "      <td>29.97</td>\n",
       "      <td>27.31</td>\n",
       "      <td>24.49</td>\n",
       "      <td>28.96</td>\n",
       "      <td>23.27</td>\n",
       "      <td>31.46</td>\n",
       "      <td>31.27</td>\n",
       "      <td>27.25</td>\n",
       "    </tr>\n",
       "    <tr>\n",
       "      <th>1</th>\n",
       "      <td>1902</td>\n",
       "      <td>24.93</td>\n",
       "      <td>26.58</td>\n",
       "      <td>29.77</td>\n",
       "      <td>31.78</td>\n",
       "      <td>33.73</td>\n",
       "      <td>32.91</td>\n",
       "      <td>30.92</td>\n",
       "      <td>30.73</td>\n",
       "      <td>29.80</td>\n",
       "      <td>29.12</td>\n",
       "      <td>26.31</td>\n",
       "      <td>24.04</td>\n",
       "      <td>29.22</td>\n",
       "      <td>25.75</td>\n",
       "      <td>31.76</td>\n",
       "      <td>31.09</td>\n",
       "      <td>26.49</td>\n",
       "    </tr>\n",
       "    <tr>\n",
       "      <th>2</th>\n",
       "      <td>1903</td>\n",
       "      <td>23.44</td>\n",
       "      <td>25.03</td>\n",
       "      <td>27.83</td>\n",
       "      <td>31.39</td>\n",
       "      <td>32.91</td>\n",
       "      <td>33.00</td>\n",
       "      <td>31.34</td>\n",
       "      <td>29.98</td>\n",
       "      <td>29.85</td>\n",
       "      <td>29.04</td>\n",
       "      <td>26.08</td>\n",
       "      <td>23.65</td>\n",
       "      <td>28.47</td>\n",
       "      <td>24.24</td>\n",
       "      <td>30.71</td>\n",
       "      <td>30.92</td>\n",
       "      <td>26.26</td>\n",
       "    </tr>\n",
       "    <tr>\n",
       "      <th>3</th>\n",
       "      <td>1904</td>\n",
       "      <td>22.50</td>\n",
       "      <td>24.73</td>\n",
       "      <td>28.21</td>\n",
       "      <td>32.02</td>\n",
       "      <td>32.64</td>\n",
       "      <td>32.07</td>\n",
       "      <td>30.36</td>\n",
       "      <td>30.09</td>\n",
       "      <td>30.04</td>\n",
       "      <td>29.20</td>\n",
       "      <td>26.36</td>\n",
       "      <td>23.63</td>\n",
       "      <td>28.49</td>\n",
       "      <td>23.62</td>\n",
       "      <td>30.95</td>\n",
       "      <td>30.66</td>\n",
       "      <td>26.40</td>\n",
       "    </tr>\n",
       "    <tr>\n",
       "      <th>4</th>\n",
       "      <td>1905</td>\n",
       "      <td>22.00</td>\n",
       "      <td>22.83</td>\n",
       "      <td>26.68</td>\n",
       "      <td>30.01</td>\n",
       "      <td>33.32</td>\n",
       "      <td>33.25</td>\n",
       "      <td>31.44</td>\n",
       "      <td>30.68</td>\n",
       "      <td>30.12</td>\n",
       "      <td>30.67</td>\n",
       "      <td>27.52</td>\n",
       "      <td>23.82</td>\n",
       "      <td>28.30</td>\n",
       "      <td>22.25</td>\n",
       "      <td>30.00</td>\n",
       "      <td>31.33</td>\n",
       "      <td>26.57</td>\n",
       "    </tr>\n",
       "    <tr>\n",
       "      <th>...</th>\n",
       "      <td>...</td>\n",
       "      <td>...</td>\n",
       "      <td>...</td>\n",
       "      <td>...</td>\n",
       "      <td>...</td>\n",
       "      <td>...</td>\n",
       "      <td>...</td>\n",
       "      <td>...</td>\n",
       "      <td>...</td>\n",
       "      <td>...</td>\n",
       "      <td>...</td>\n",
       "      <td>...</td>\n",
       "      <td>...</td>\n",
       "      <td>...</td>\n",
       "      <td>...</td>\n",
       "      <td>...</td>\n",
       "      <td>...</td>\n",
       "      <td>...</td>\n",
       "    </tr>\n",
       "    <tr>\n",
       "      <th>112</th>\n",
       "      <td>2013</td>\n",
       "      <td>24.56</td>\n",
       "      <td>26.59</td>\n",
       "      <td>30.62</td>\n",
       "      <td>32.66</td>\n",
       "      <td>34.46</td>\n",
       "      <td>32.44</td>\n",
       "      <td>31.07</td>\n",
       "      <td>30.76</td>\n",
       "      <td>31.04</td>\n",
       "      <td>30.27</td>\n",
       "      <td>27.83</td>\n",
       "      <td>25.37</td>\n",
       "      <td>29.81</td>\n",
       "      <td>25.58</td>\n",
       "      <td>32.58</td>\n",
       "      <td>31.33</td>\n",
       "      <td>27.83</td>\n",
       "    </tr>\n",
       "    <tr>\n",
       "      <th>113</th>\n",
       "      <td>2014</td>\n",
       "      <td>23.83</td>\n",
       "      <td>25.97</td>\n",
       "      <td>28.95</td>\n",
       "      <td>32.74</td>\n",
       "      <td>33.77</td>\n",
       "      <td>34.15</td>\n",
       "      <td>31.85</td>\n",
       "      <td>31.32</td>\n",
       "      <td>30.68</td>\n",
       "      <td>30.29</td>\n",
       "      <td>28.05</td>\n",
       "      <td>25.08</td>\n",
       "      <td>29.72</td>\n",
       "      <td>24.90</td>\n",
       "      <td>31.82</td>\n",
       "      <td>32.00</td>\n",
       "      <td>27.81</td>\n",
       "    </tr>\n",
       "    <tr>\n",
       "      <th>114</th>\n",
       "      <td>2015</td>\n",
       "      <td>24.58</td>\n",
       "      <td>26.89</td>\n",
       "      <td>29.07</td>\n",
       "      <td>31.87</td>\n",
       "      <td>34.09</td>\n",
       "      <td>32.48</td>\n",
       "      <td>31.88</td>\n",
       "      <td>31.52</td>\n",
       "      <td>31.55</td>\n",
       "      <td>31.04</td>\n",
       "      <td>28.10</td>\n",
       "      <td>25.67</td>\n",
       "      <td>29.90</td>\n",
       "      <td>25.74</td>\n",
       "      <td>31.68</td>\n",
       "      <td>31.87</td>\n",
       "      <td>28.27</td>\n",
       "    </tr>\n",
       "    <tr>\n",
       "      <th>115</th>\n",
       "      <td>2016</td>\n",
       "      <td>26.94</td>\n",
       "      <td>29.72</td>\n",
       "      <td>32.62</td>\n",
       "      <td>35.38</td>\n",
       "      <td>35.72</td>\n",
       "      <td>34.03</td>\n",
       "      <td>31.64</td>\n",
       "      <td>31.79</td>\n",
       "      <td>31.66</td>\n",
       "      <td>31.98</td>\n",
       "      <td>30.11</td>\n",
       "      <td>28.01</td>\n",
       "      <td>31.63</td>\n",
       "      <td>28.33</td>\n",
       "      <td>34.57</td>\n",
       "      <td>32.28</td>\n",
       "      <td>30.03</td>\n",
       "    </tr>\n",
       "    <tr>\n",
       "      <th>116</th>\n",
       "      <td>2017</td>\n",
       "      <td>26.45</td>\n",
       "      <td>29.46</td>\n",
       "      <td>31.60</td>\n",
       "      <td>34.95</td>\n",
       "      <td>35.84</td>\n",
       "      <td>33.82</td>\n",
       "      <td>31.88</td>\n",
       "      <td>31.72</td>\n",
       "      <td>32.22</td>\n",
       "      <td>32.29</td>\n",
       "      <td>29.60</td>\n",
       "      <td>27.18</td>\n",
       "      <td>31.42</td>\n",
       "      <td>27.95</td>\n",
       "      <td>34.13</td>\n",
       "      <td>32.41</td>\n",
       "      <td>29.69</td>\n",
       "    </tr>\n",
       "  </tbody>\n",
       "</table>\n",
       "<p>117 rows × 18 columns</p>\n",
       "</div>"
      ],
      "text/plain": [
       "     YEAR    JAN    FEB    MAR    APR    MAY    JUN    JUL    AUG    SEP  \\\n",
       "0    1901  22.40  24.14  29.07  31.91  33.41  33.18  31.21  30.39  30.47   \n",
       "1    1902  24.93  26.58  29.77  31.78  33.73  32.91  30.92  30.73  29.80   \n",
       "2    1903  23.44  25.03  27.83  31.39  32.91  33.00  31.34  29.98  29.85   \n",
       "3    1904  22.50  24.73  28.21  32.02  32.64  32.07  30.36  30.09  30.04   \n",
       "4    1905  22.00  22.83  26.68  30.01  33.32  33.25  31.44  30.68  30.12   \n",
       "..    ...    ...    ...    ...    ...    ...    ...    ...    ...    ...   \n",
       "112  2013  24.56  26.59  30.62  32.66  34.46  32.44  31.07  30.76  31.04   \n",
       "113  2014  23.83  25.97  28.95  32.74  33.77  34.15  31.85  31.32  30.68   \n",
       "114  2015  24.58  26.89  29.07  31.87  34.09  32.48  31.88  31.52  31.55   \n",
       "115  2016  26.94  29.72  32.62  35.38  35.72  34.03  31.64  31.79  31.66   \n",
       "116  2017  26.45  29.46  31.60  34.95  35.84  33.82  31.88  31.72  32.22   \n",
       "\n",
       "       OCT    NOV    DEC  ANNUAL  JAN-FEB  MAR-MAY  JUN-SEP  OCT-DEC  \n",
       "0    29.97  27.31  24.49   28.96    23.27    31.46    31.27    27.25  \n",
       "1    29.12  26.31  24.04   29.22    25.75    31.76    31.09    26.49  \n",
       "2    29.04  26.08  23.65   28.47    24.24    30.71    30.92    26.26  \n",
       "3    29.20  26.36  23.63   28.49    23.62    30.95    30.66    26.40  \n",
       "4    30.67  27.52  23.82   28.30    22.25    30.00    31.33    26.57  \n",
       "..     ...    ...    ...     ...      ...      ...      ...      ...  \n",
       "112  30.27  27.83  25.37   29.81    25.58    32.58    31.33    27.83  \n",
       "113  30.29  28.05  25.08   29.72    24.90    31.82    32.00    27.81  \n",
       "114  31.04  28.10  25.67   29.90    25.74    31.68    31.87    28.27  \n",
       "115  31.98  30.11  28.01   31.63    28.33    34.57    32.28    30.03  \n",
       "116  32.29  29.60  27.18   31.42    27.95    34.13    32.41    29.69  \n",
       "\n",
       "[117 rows x 18 columns]"
      ]
     },
     "execution_count": 3,
     "metadata": {},
     "output_type": "execute_result"
    }
   ],
   "source": [
    "data"
   ]
  },
  {
   "cell_type": "code",
   "execution_count": 4,
   "metadata": {
    "tags": []
   },
   "outputs": [
    {
     "name": "stdout",
     "output_type": "stream",
     "text": [
      "<class 'pandas.core.frame.DataFrame'>\n",
      "RangeIndex: 117 entries, 0 to 116\n",
      "Data columns (total 18 columns):\n",
      " #   Column   Non-Null Count  Dtype  \n",
      "---  ------   --------------  -----  \n",
      " 0   YEAR     117 non-null    int64  \n",
      " 1   JAN      117 non-null    float64\n",
      " 2   FEB      117 non-null    float64\n",
      " 3   MAR      117 non-null    float64\n",
      " 4   APR      117 non-null    float64\n",
      " 5   MAY      117 non-null    float64\n",
      " 6   JUN      117 non-null    float64\n",
      " 7   JUL      117 non-null    float64\n",
      " 8   AUG      117 non-null    float64\n",
      " 9   SEP      117 non-null    float64\n",
      " 10  OCT      117 non-null    float64\n",
      " 11  NOV      117 non-null    float64\n",
      " 12  DEC      117 non-null    float64\n",
      " 13  ANNUAL   117 non-null    float64\n",
      " 14  JAN-FEB  117 non-null    float64\n",
      " 15  MAR-MAY  117 non-null    float64\n",
      " 16  JUN-SEP  117 non-null    float64\n",
      " 17  OCT-DEC  117 non-null    float64\n",
      "dtypes: float64(17), int64(1)\n",
      "memory usage: 16.6 KB\n"
     ]
    }
   ],
   "source": [
    "data.info()"
   ]
  },
  {
   "cell_type": "code",
   "execution_count": 5,
   "metadata": {
    "tags": []
   },
   "outputs": [
    {
     "data": {
      "text/plain": [
       "YEAR       0\n",
       "JAN        0\n",
       "FEB        0\n",
       "MAR        0\n",
       "APR        0\n",
       "MAY        0\n",
       "JUN        0\n",
       "JUL        0\n",
       "AUG        0\n",
       "SEP        0\n",
       "OCT        0\n",
       "NOV        0\n",
       "DEC        0\n",
       "ANNUAL     0\n",
       "JAN-FEB    0\n",
       "MAR-MAY    0\n",
       "JUN-SEP    0\n",
       "OCT-DEC    0\n",
       "dtype: int64"
      ]
     },
     "execution_count": 5,
     "metadata": {},
     "output_type": "execute_result"
    }
   ],
   "source": [
    "data.isnull().sum()"
   ]
  },
  {
   "cell_type": "code",
   "execution_count": 6,
   "metadata": {
    "tags": []
   },
   "outputs": [
    {
     "data": {
      "text/plain": [
       "0"
      ]
     },
     "execution_count": 6,
     "metadata": {},
     "output_type": "execute_result"
    }
   ],
   "source": [
    "data.isnull().sum().sum()"
   ]
  },
  {
   "cell_type": "code",
   "execution_count": 7,
   "metadata": {
    "tags": []
   },
   "outputs": [
    {
     "data": {
      "text/html": [
       "<div>\n",
       "<style scoped>\n",
       "    .dataframe tbody tr th:only-of-type {\n",
       "        vertical-align: middle;\n",
       "    }\n",
       "\n",
       "    .dataframe tbody tr th {\n",
       "        vertical-align: top;\n",
       "    }\n",
       "\n",
       "    .dataframe thead th {\n",
       "        text-align: right;\n",
       "    }\n",
       "</style>\n",
       "<table border=\"1\" class=\"dataframe\">\n",
       "  <thead>\n",
       "    <tr style=\"text-align: right;\">\n",
       "      <th></th>\n",
       "      <th>YEAR</th>\n",
       "      <th>JAN</th>\n",
       "      <th>FEB</th>\n",
       "      <th>MAR</th>\n",
       "      <th>APR</th>\n",
       "      <th>MAY</th>\n",
       "      <th>JUN</th>\n",
       "      <th>JUL</th>\n",
       "      <th>AUG</th>\n",
       "      <th>SEP</th>\n",
       "      <th>OCT</th>\n",
       "      <th>NOV</th>\n",
       "      <th>DEC</th>\n",
       "      <th>ANNUAL</th>\n",
       "      <th>JAN-FEB</th>\n",
       "      <th>MAR-MAY</th>\n",
       "      <th>JUN-SEP</th>\n",
       "      <th>OCT-DEC</th>\n",
       "    </tr>\n",
       "  </thead>\n",
       "  <tbody>\n",
       "    <tr>\n",
       "      <th>YEAR</th>\n",
       "      <td>1.000000</td>\n",
       "      <td>0.575499</td>\n",
       "      <td>0.647066</td>\n",
       "      <td>0.553886</td>\n",
       "      <td>0.540662</td>\n",
       "      <td>0.407648</td>\n",
       "      <td>0.371840</td>\n",
       "      <td>0.478512</td>\n",
       "      <td>0.654138</td>\n",
       "      <td>0.664008</td>\n",
       "      <td>0.589073</td>\n",
       "      <td>0.697887</td>\n",
       "      <td>0.732222</td>\n",
       "      <td>0.801129</td>\n",
       "      <td>0.679869</td>\n",
       "      <td>0.640438</td>\n",
       "      <td>0.677061</td>\n",
       "      <td>0.749792</td>\n",
       "    </tr>\n",
       "    <tr>\n",
       "      <th>JAN</th>\n",
       "      <td>0.575499</td>\n",
       "      <td>1.000000</td>\n",
       "      <td>0.647017</td>\n",
       "      <td>0.457081</td>\n",
       "      <td>0.594674</td>\n",
       "      <td>0.365236</td>\n",
       "      <td>0.292855</td>\n",
       "      <td>0.339337</td>\n",
       "      <td>0.459944</td>\n",
       "      <td>0.499764</td>\n",
       "      <td>0.480695</td>\n",
       "      <td>0.526615</td>\n",
       "      <td>0.595902</td>\n",
       "      <td>0.749880</td>\n",
       "      <td>0.874226</td>\n",
       "      <td>0.575734</td>\n",
       "      <td>0.496515</td>\n",
       "      <td>0.607752</td>\n",
       "    </tr>\n",
       "    <tr>\n",
       "      <th>FEB</th>\n",
       "      <td>0.647066</td>\n",
       "      <td>0.647017</td>\n",
       "      <td>1.000000</td>\n",
       "      <td>0.589088</td>\n",
       "      <td>0.548803</td>\n",
       "      <td>0.377722</td>\n",
       "      <td>0.341302</td>\n",
       "      <td>0.418956</td>\n",
       "      <td>0.503188</td>\n",
       "      <td>0.472755</td>\n",
       "      <td>0.466916</td>\n",
       "      <td>0.519595</td>\n",
       "      <td>0.619320</td>\n",
       "      <td>0.792541</td>\n",
       "      <td>0.928731</td>\n",
       "      <td>0.635904</td>\n",
       "      <td>0.544527</td>\n",
       "      <td>0.609839</td>\n",
       "    </tr>\n",
       "    <tr>\n",
       "      <th>MAR</th>\n",
       "      <td>0.553886</td>\n",
       "      <td>0.457081</td>\n",
       "      <td>0.589088</td>\n",
       "      <td>1.000000</td>\n",
       "      <td>0.618621</td>\n",
       "      <td>0.387756</td>\n",
       "      <td>0.228349</td>\n",
       "      <td>0.232647</td>\n",
       "      <td>0.382344</td>\n",
       "      <td>0.370066</td>\n",
       "      <td>0.312226</td>\n",
       "      <td>0.498202</td>\n",
       "      <td>0.523316</td>\n",
       "      <td>0.689205</td>\n",
       "      <td>0.584612</td>\n",
       "      <td>0.848637</td>\n",
       "      <td>0.380640</td>\n",
       "      <td>0.505879</td>\n",
       "    </tr>\n",
       "    <tr>\n",
       "      <th>APR</th>\n",
       "      <td>0.540662</td>\n",
       "      <td>0.594674</td>\n",
       "      <td>0.548803</td>\n",
       "      <td>0.618621</td>\n",
       "      <td>1.000000</td>\n",
       "      <td>0.563317</td>\n",
       "      <td>0.299866</td>\n",
       "      <td>0.286052</td>\n",
       "      <td>0.490668</td>\n",
       "      <td>0.437970</td>\n",
       "      <td>0.473873</td>\n",
       "      <td>0.538037</td>\n",
       "      <td>0.579775</td>\n",
       "      <td>0.770596</td>\n",
       "      <td>0.643942</td>\n",
       "      <td>0.878402</td>\n",
       "      <td>0.474542</td>\n",
       "      <td>0.596943</td>\n",
       "    </tr>\n",
       "    <tr>\n",
       "      <th>MAY</th>\n",
       "      <td>0.407648</td>\n",
       "      <td>0.365236</td>\n",
       "      <td>0.377722</td>\n",
       "      <td>0.387756</td>\n",
       "      <td>0.563317</td>\n",
       "      <td>1.000000</td>\n",
       "      <td>0.274521</td>\n",
       "      <td>0.299072</td>\n",
       "      <td>0.473171</td>\n",
       "      <td>0.347289</td>\n",
       "      <td>0.468993</td>\n",
       "      <td>0.482822</td>\n",
       "      <td>0.444695</td>\n",
       "      <td>0.609015</td>\n",
       "      <td>0.403316</td>\n",
       "      <td>0.708221</td>\n",
       "      <td>0.431314</td>\n",
       "      <td>0.503445</td>\n",
       "    </tr>\n",
       "    <tr>\n",
       "      <th>JUN</th>\n",
       "      <td>0.371840</td>\n",
       "      <td>0.292855</td>\n",
       "      <td>0.341302</td>\n",
       "      <td>0.228349</td>\n",
       "      <td>0.299866</td>\n",
       "      <td>0.274521</td>\n",
       "      <td>1.000000</td>\n",
       "      <td>0.480925</td>\n",
       "      <td>0.504354</td>\n",
       "      <td>0.305761</td>\n",
       "      <td>0.380782</td>\n",
       "      <td>0.419968</td>\n",
       "      <td>0.366242</td>\n",
       "      <td>0.520189</td>\n",
       "      <td>0.351115</td>\n",
       "      <td>0.341301</td>\n",
       "      <td>0.749132</td>\n",
       "      <td>0.409325</td>\n",
       "    </tr>\n",
       "    <tr>\n",
       "      <th>JUL</th>\n",
       "      <td>0.478512</td>\n",
       "      <td>0.339337</td>\n",
       "      <td>0.418956</td>\n",
       "      <td>0.232647</td>\n",
       "      <td>0.286052</td>\n",
       "      <td>0.299072</td>\n",
       "      <td>0.480925</td>\n",
       "      <td>1.000000</td>\n",
       "      <td>0.622985</td>\n",
       "      <td>0.531865</td>\n",
       "      <td>0.568341</td>\n",
       "      <td>0.535413</td>\n",
       "      <td>0.440813</td>\n",
       "      <td>0.588454</td>\n",
       "      <td>0.423876</td>\n",
       "      <td>0.321388</td>\n",
       "      <td>0.799602</td>\n",
       "      <td>0.541023</td>\n",
       "    </tr>\n",
       "    <tr>\n",
       "      <th>AUG</th>\n",
       "      <td>0.654138</td>\n",
       "      <td>0.459944</td>\n",
       "      <td>0.503188</td>\n",
       "      <td>0.382344</td>\n",
       "      <td>0.490668</td>\n",
       "      <td>0.473171</td>\n",
       "      <td>0.504354</td>\n",
       "      <td>0.622985</td>\n",
       "      <td>1.000000</td>\n",
       "      <td>0.680212</td>\n",
       "      <td>0.661177</td>\n",
       "      <td>0.588961</td>\n",
       "      <td>0.595330</td>\n",
       "      <td>0.755384</td>\n",
       "      <td>0.534818</td>\n",
       "      <td>0.560118</td>\n",
       "      <td>0.866202</td>\n",
       "      <td>0.665040</td>\n",
       "    </tr>\n",
       "    <tr>\n",
       "      <th>SEP</th>\n",
       "      <td>0.664008</td>\n",
       "      <td>0.499764</td>\n",
       "      <td>0.472755</td>\n",
       "      <td>0.370066</td>\n",
       "      <td>0.437970</td>\n",
       "      <td>0.347289</td>\n",
       "      <td>0.305761</td>\n",
       "      <td>0.531865</td>\n",
       "      <td>0.680212</td>\n",
       "      <td>1.000000</td>\n",
       "      <td>0.680744</td>\n",
       "      <td>0.683866</td>\n",
       "      <td>0.629223</td>\n",
       "      <td>0.730756</td>\n",
       "      <td>0.529533</td>\n",
       "      <td>0.485397</td>\n",
       "      <td>0.778875</td>\n",
       "      <td>0.734650</td>\n",
       "    </tr>\n",
       "    <tr>\n",
       "      <th>OCT</th>\n",
       "      <td>0.589073</td>\n",
       "      <td>0.480695</td>\n",
       "      <td>0.466916</td>\n",
       "      <td>0.312226</td>\n",
       "      <td>0.473873</td>\n",
       "      <td>0.468993</td>\n",
       "      <td>0.380782</td>\n",
       "      <td>0.568341</td>\n",
       "      <td>0.661177</td>\n",
       "      <td>0.680744</td>\n",
       "      <td>1.000000</td>\n",
       "      <td>0.770277</td>\n",
       "      <td>0.719305</td>\n",
       "      <td>0.768170</td>\n",
       "      <td>0.506640</td>\n",
       "      <td>0.522917</td>\n",
       "      <td>0.705733</td>\n",
       "      <td>0.888144</td>\n",
       "    </tr>\n",
       "    <tr>\n",
       "      <th>NOV</th>\n",
       "      <td>0.697887</td>\n",
       "      <td>0.526615</td>\n",
       "      <td>0.519595</td>\n",
       "      <td>0.498202</td>\n",
       "      <td>0.538037</td>\n",
       "      <td>0.482822</td>\n",
       "      <td>0.419968</td>\n",
       "      <td>0.535413</td>\n",
       "      <td>0.588961</td>\n",
       "      <td>0.683866</td>\n",
       "      <td>0.770277</td>\n",
       "      <td>1.000000</td>\n",
       "      <td>0.782075</td>\n",
       "      <td>0.812868</td>\n",
       "      <td>0.568893</td>\n",
       "      <td>0.620161</td>\n",
       "      <td>0.692585</td>\n",
       "      <td>0.913522</td>\n",
       "    </tr>\n",
       "    <tr>\n",
       "      <th>DEC</th>\n",
       "      <td>0.732222</td>\n",
       "      <td>0.595902</td>\n",
       "      <td>0.619320</td>\n",
       "      <td>0.523316</td>\n",
       "      <td>0.579775</td>\n",
       "      <td>0.444695</td>\n",
       "      <td>0.366242</td>\n",
       "      <td>0.440813</td>\n",
       "      <td>0.595330</td>\n",
       "      <td>0.629223</td>\n",
       "      <td>0.719305</td>\n",
       "      <td>0.782075</td>\n",
       "      <td>1.000000</td>\n",
       "      <td>0.843660</td>\n",
       "      <td>0.663719</td>\n",
       "      <td>0.643015</td>\n",
       "      <td>0.634747</td>\n",
       "      <td>0.922692</td>\n",
       "    </tr>\n",
       "    <tr>\n",
       "      <th>ANNUAL</th>\n",
       "      <td>0.801129</td>\n",
       "      <td>0.749880</td>\n",
       "      <td>0.792541</td>\n",
       "      <td>0.689205</td>\n",
       "      <td>0.770596</td>\n",
       "      <td>0.609015</td>\n",
       "      <td>0.520189</td>\n",
       "      <td>0.588454</td>\n",
       "      <td>0.755384</td>\n",
       "      <td>0.730756</td>\n",
       "      <td>0.768170</td>\n",
       "      <td>0.812868</td>\n",
       "      <td>0.843660</td>\n",
       "      <td>1.000000</td>\n",
       "      <td>0.849828</td>\n",
       "      <td>0.853277</td>\n",
       "      <td>0.810786</td>\n",
       "      <td>0.897046</td>\n",
       "    </tr>\n",
       "    <tr>\n",
       "      <th>JAN-FEB</th>\n",
       "      <td>0.679869</td>\n",
       "      <td>0.874226</td>\n",
       "      <td>0.928731</td>\n",
       "      <td>0.584612</td>\n",
       "      <td>0.643942</td>\n",
       "      <td>0.403316</td>\n",
       "      <td>0.351115</td>\n",
       "      <td>0.423876</td>\n",
       "      <td>0.534818</td>\n",
       "      <td>0.529533</td>\n",
       "      <td>0.506640</td>\n",
       "      <td>0.568893</td>\n",
       "      <td>0.663719</td>\n",
       "      <td>0.849828</td>\n",
       "      <td>1.000000</td>\n",
       "      <td>0.675918</td>\n",
       "      <td>0.575513</td>\n",
       "      <td>0.661805</td>\n",
       "    </tr>\n",
       "    <tr>\n",
       "      <th>MAR-MAY</th>\n",
       "      <td>0.640438</td>\n",
       "      <td>0.575734</td>\n",
       "      <td>0.635904</td>\n",
       "      <td>0.848637</td>\n",
       "      <td>0.878402</td>\n",
       "      <td>0.708221</td>\n",
       "      <td>0.341301</td>\n",
       "      <td>0.321388</td>\n",
       "      <td>0.560118</td>\n",
       "      <td>0.485397</td>\n",
       "      <td>0.522917</td>\n",
       "      <td>0.620161</td>\n",
       "      <td>0.643015</td>\n",
       "      <td>0.853277</td>\n",
       "      <td>0.675918</td>\n",
       "      <td>1.000000</td>\n",
       "      <td>0.534279</td>\n",
       "      <td>0.664773</td>\n",
       "    </tr>\n",
       "    <tr>\n",
       "      <th>JUN-SEP</th>\n",
       "      <td>0.677061</td>\n",
       "      <td>0.496515</td>\n",
       "      <td>0.544527</td>\n",
       "      <td>0.380640</td>\n",
       "      <td>0.474542</td>\n",
       "      <td>0.431314</td>\n",
       "      <td>0.749132</td>\n",
       "      <td>0.799602</td>\n",
       "      <td>0.866202</td>\n",
       "      <td>0.778875</td>\n",
       "      <td>0.705733</td>\n",
       "      <td>0.692585</td>\n",
       "      <td>0.634747</td>\n",
       "      <td>0.810786</td>\n",
       "      <td>0.575513</td>\n",
       "      <td>0.534279</td>\n",
       "      <td>1.000000</td>\n",
       "      <td>0.730397</td>\n",
       "    </tr>\n",
       "    <tr>\n",
       "      <th>OCT-DEC</th>\n",
       "      <td>0.749792</td>\n",
       "      <td>0.607752</td>\n",
       "      <td>0.609839</td>\n",
       "      <td>0.505879</td>\n",
       "      <td>0.596943</td>\n",
       "      <td>0.503445</td>\n",
       "      <td>0.409325</td>\n",
       "      <td>0.541023</td>\n",
       "      <td>0.665040</td>\n",
       "      <td>0.734650</td>\n",
       "      <td>0.888144</td>\n",
       "      <td>0.913522</td>\n",
       "      <td>0.922692</td>\n",
       "      <td>0.897046</td>\n",
       "      <td>0.661805</td>\n",
       "      <td>0.664773</td>\n",
       "      <td>0.730397</td>\n",
       "      <td>1.000000</td>\n",
       "    </tr>\n",
       "  </tbody>\n",
       "</table>\n",
       "</div>"
      ],
      "text/plain": [
       "             YEAR       JAN       FEB       MAR       APR       MAY       JUN  \\\n",
       "YEAR     1.000000  0.575499  0.647066  0.553886  0.540662  0.407648  0.371840   \n",
       "JAN      0.575499  1.000000  0.647017  0.457081  0.594674  0.365236  0.292855   \n",
       "FEB      0.647066  0.647017  1.000000  0.589088  0.548803  0.377722  0.341302   \n",
       "MAR      0.553886  0.457081  0.589088  1.000000  0.618621  0.387756  0.228349   \n",
       "APR      0.540662  0.594674  0.548803  0.618621  1.000000  0.563317  0.299866   \n",
       "MAY      0.407648  0.365236  0.377722  0.387756  0.563317  1.000000  0.274521   \n",
       "JUN      0.371840  0.292855  0.341302  0.228349  0.299866  0.274521  1.000000   \n",
       "JUL      0.478512  0.339337  0.418956  0.232647  0.286052  0.299072  0.480925   \n",
       "AUG      0.654138  0.459944  0.503188  0.382344  0.490668  0.473171  0.504354   \n",
       "SEP      0.664008  0.499764  0.472755  0.370066  0.437970  0.347289  0.305761   \n",
       "OCT      0.589073  0.480695  0.466916  0.312226  0.473873  0.468993  0.380782   \n",
       "NOV      0.697887  0.526615  0.519595  0.498202  0.538037  0.482822  0.419968   \n",
       "DEC      0.732222  0.595902  0.619320  0.523316  0.579775  0.444695  0.366242   \n",
       "ANNUAL   0.801129  0.749880  0.792541  0.689205  0.770596  0.609015  0.520189   \n",
       "JAN-FEB  0.679869  0.874226  0.928731  0.584612  0.643942  0.403316  0.351115   \n",
       "MAR-MAY  0.640438  0.575734  0.635904  0.848637  0.878402  0.708221  0.341301   \n",
       "JUN-SEP  0.677061  0.496515  0.544527  0.380640  0.474542  0.431314  0.749132   \n",
       "OCT-DEC  0.749792  0.607752  0.609839  0.505879  0.596943  0.503445  0.409325   \n",
       "\n",
       "              JUL       AUG       SEP       OCT       NOV       DEC    ANNUAL  \\\n",
       "YEAR     0.478512  0.654138  0.664008  0.589073  0.697887  0.732222  0.801129   \n",
       "JAN      0.339337  0.459944  0.499764  0.480695  0.526615  0.595902  0.749880   \n",
       "FEB      0.418956  0.503188  0.472755  0.466916  0.519595  0.619320  0.792541   \n",
       "MAR      0.232647  0.382344  0.370066  0.312226  0.498202  0.523316  0.689205   \n",
       "APR      0.286052  0.490668  0.437970  0.473873  0.538037  0.579775  0.770596   \n",
       "MAY      0.299072  0.473171  0.347289  0.468993  0.482822  0.444695  0.609015   \n",
       "JUN      0.480925  0.504354  0.305761  0.380782  0.419968  0.366242  0.520189   \n",
       "JUL      1.000000  0.622985  0.531865  0.568341  0.535413  0.440813  0.588454   \n",
       "AUG      0.622985  1.000000  0.680212  0.661177  0.588961  0.595330  0.755384   \n",
       "SEP      0.531865  0.680212  1.000000  0.680744  0.683866  0.629223  0.730756   \n",
       "OCT      0.568341  0.661177  0.680744  1.000000  0.770277  0.719305  0.768170   \n",
       "NOV      0.535413  0.588961  0.683866  0.770277  1.000000  0.782075  0.812868   \n",
       "DEC      0.440813  0.595330  0.629223  0.719305  0.782075  1.000000  0.843660   \n",
       "ANNUAL   0.588454  0.755384  0.730756  0.768170  0.812868  0.843660  1.000000   \n",
       "JAN-FEB  0.423876  0.534818  0.529533  0.506640  0.568893  0.663719  0.849828   \n",
       "MAR-MAY  0.321388  0.560118  0.485397  0.522917  0.620161  0.643015  0.853277   \n",
       "JUN-SEP  0.799602  0.866202  0.778875  0.705733  0.692585  0.634747  0.810786   \n",
       "OCT-DEC  0.541023  0.665040  0.734650  0.888144  0.913522  0.922692  0.897046   \n",
       "\n",
       "          JAN-FEB   MAR-MAY   JUN-SEP   OCT-DEC  \n",
       "YEAR     0.679869  0.640438  0.677061  0.749792  \n",
       "JAN      0.874226  0.575734  0.496515  0.607752  \n",
       "FEB      0.928731  0.635904  0.544527  0.609839  \n",
       "MAR      0.584612  0.848637  0.380640  0.505879  \n",
       "APR      0.643942  0.878402  0.474542  0.596943  \n",
       "MAY      0.403316  0.708221  0.431314  0.503445  \n",
       "JUN      0.351115  0.341301  0.749132  0.409325  \n",
       "JUL      0.423876  0.321388  0.799602  0.541023  \n",
       "AUG      0.534818  0.560118  0.866202  0.665040  \n",
       "SEP      0.529533  0.485397  0.778875  0.734650  \n",
       "OCT      0.506640  0.522917  0.705733  0.888144  \n",
       "NOV      0.568893  0.620161  0.692585  0.913522  \n",
       "DEC      0.663719  0.643015  0.634747  0.922692  \n",
       "ANNUAL   0.849828  0.853277  0.810786  0.897046  \n",
       "JAN-FEB  1.000000  0.675918  0.575513  0.661805  \n",
       "MAR-MAY  0.675918  1.000000  0.534279  0.664773  \n",
       "JUN-SEP  0.575513  0.534279  1.000000  0.730397  \n",
       "OCT-DEC  0.661805  0.664773  0.730397  1.000000  "
      ]
     },
     "execution_count": 7,
     "metadata": {},
     "output_type": "execute_result"
    }
   ],
   "source": [
    "#finding correlation between the variables\n",
    "data.corr()"
   ]
  },
  {
   "cell_type": "code",
   "execution_count": 8,
   "metadata": {
    "tags": []
   },
   "outputs": [
    {
     "data": {
      "text/plain": [
       "ANNUAL     1.000000\n",
       "OCT-DEC    0.897046\n",
       "MAR-MAY    0.853277\n",
       "JAN-FEB    0.849828\n",
       "DEC        0.843660\n",
       "NOV        0.812868\n",
       "JUN-SEP    0.810786\n",
       "YEAR       0.801129\n",
       "FEB        0.792541\n",
       "APR        0.770596\n",
       "OCT        0.768170\n",
       "AUG        0.755384\n",
       "JAN        0.749880\n",
       "SEP        0.730756\n",
       "MAR        0.689205\n",
       "MAY        0.609015\n",
       "JUL        0.588454\n",
       "JUN        0.520189\n",
       "Name: ANNUAL, dtype: float64"
      ]
     },
     "execution_count": 8,
     "metadata": {},
     "output_type": "execute_result"
    }
   ],
   "source": [
    "data.corr()[\"ANNUAL\"].sort_values(ascending=False)"
   ]
  },
  {
   "cell_type": "code",
   "execution_count": 9,
   "metadata": {
    "tags": []
   },
   "outputs": [
    {
     "data": {
      "image/png": "[encoded data removed]",
      "text/plain": [
       "<Figure size 640x480 with 1 Axes>"
      ]
     },
     "metadata": {},
     "output_type": "display_data"
    }
   ],
   "source": [
    "y = data[\"OCT-DEC\"]\n",
    "x = data[[\"ANNUAL\"]]\n",
    "\n",
    "training_percentages = []\n",
    "for i in range(1, 10):\n",
    "    percentage = i / 10.0 \n",
    "    training_percentages.append(percentage)\n",
    "\n",
    "training_errors = []\n",
    "testing_errors = []\n",
    "for percentage in training_percentages:\n",
    "    X_train, X_test, y_train, y_test = train_test_split(x, y, test_size=1 - percentage, random_state=0)\n",
    "    model = LinearRegression()\n",
    "    model.fit(X_train, y_train)\n",
    "    y_train_pred = model.predict(X_train)\n",
    "    y_test_pred = model.predict(X_test)\n",
    "    training_sse = np.sum((y_train - y_train_pred) ** 2)\n",
    "    testing_sse = np.sum((y_test - y_test_pred) ** 2)\n",
    "    training_errors.append(training_sse)\n",
    "    testing_errors.append(testing_sse)\n",
    "\n",
    "plt.plot(training_percentages, training_errors, label=\"Training Error (SSE)\")\n",
    "plt.plot(training_percentages, testing_errors, label=\"Testing Error (SSE)\")\n",
    "plt.xlabel(\"Training Percentage\")\n",
    "plt.ylabel(\"SSE\")\n",
    "plt.legend()\n",
    "plt.title(\"Training and Testing Error vs. Training Percentage\")\n",
    "plt.show()\n"
   ]
  },
  {
   "cell_type": "code",
   "execution_count": 10,
   "metadata": {
    "tags": []
   },
   "outputs": [
    {
     "data": {
      "text/plain": [
       "ANNUAL     1.000000\n",
       "OCT-DEC    0.897046\n",
       "MAR-MAY    0.853277\n",
       "JAN-FEB    0.849828\n",
       "DEC        0.843660\n",
       "NOV        0.812868\n",
       "JUN-SEP    0.810786\n",
       "YEAR       0.801129\n",
       "FEB        0.792541\n",
       "APR        0.770596\n",
       "OCT        0.768170\n",
       "AUG        0.755384\n",
       "JAN        0.749880\n",
       "SEP        0.730756\n",
       "MAR        0.689205\n",
       "MAY        0.609015\n",
       "JUL        0.588454\n",
       "JUN        0.520189\n",
       "Name: ANNUAL, dtype: float64"
      ]
     },
     "execution_count": 10,
     "metadata": {},
     "output_type": "execute_result"
    }
   ],
   "source": [
    "data.corr()[\"ANNUAL\"].sort_values(ascending=False)"
   ]
  },
  {
   "cell_type": "code",
   "execution_count": 11,
   "metadata": {
    "tags": []
   },
   "outputs": [],
   "source": [
    "y1=data['OCT-DEC']\n",
    "x1=data[['ANNUAL']]"
   ]
  },
  {
   "cell_type": "code",
   "execution_count": 12,
   "metadata": {
    "tags": []
   },
   "outputs": [],
   "source": [
    "x1_train, x1_test, y1_train, y1_test = train_test_split(x1, y1, test_size=0.2, random_state=0)"
   ]
  },
  {
   "cell_type": "code",
   "execution_count": 13,
   "metadata": {
    "tags": []
   },
   "outputs": [
    {
     "data": {
      "text/html": [
       "<style>#sk-container-id-1 {color: black;}#sk-container-id-1 pre{padding: 0;}#sk-container-id-1 div.sk-toggleable {background-color: white;}#sk-container-id-1 label.sk-toggleable__label {cursor: pointer;display: block;width: 100%;margin-bottom: 0;padding: 0.3em;box-sizing: border-box;text-align: center;}#sk-container-id-1 label.sk-toggleable__label-arrow:before {content: \"▸\";float: left;margin-right: 0.25em;color: #696969;}#sk-container-id-1 label.sk-toggleable__label-arrow:hover:before {color: black;}#sk-container-id-1 div.sk-estimator:hover label.sk-toggleable__label-arrow:before {color: black;}#sk-container-id-1 div.sk-toggleable__content {max-height: 0;max-width: 0;overflow: hidden;text-align: left;background-color: #f0f8ff;}#sk-container-id-1 div.sk-toggleable__content pre {margin: 0.2em;color: black;border-radius: 0.25em;background-color: #f0f8ff;}#sk-container-id-1 input.sk-toggleable__control:checked~div.sk-toggleable__content {max-height: 200px;max-width: 100%;overflow: auto;}#sk-container-id-1 input.sk-toggleable__control:checked~label.sk-toggleable__label-arrow:before {content: \"▾\";}#sk-container-id-1 div.sk-estimator input.sk-toggleable__control:checked~label.sk-toggleable__label {background-color: #d4ebff;}#sk-container-id-1 div.sk-label input.sk-toggleable__control:checked~label.sk-toggleable__label {background-color: #d4ebff;}#sk-container-id-1 input.sk-hidden--visually {border: 0;clip: rect(1px 1px 1px 1px);clip: rect(1px, 1px, 1px, 1px);height: 1px;margin: -1px;overflow: hidden;padding: 0;position: absolute;width: 1px;}#sk-container-id-1 div.sk-estimator {font-family: monospace;background-color: #f0f8ff;border: 1px dotted black;border-radius: 0.25em;box-sizing: border-box;margin-bottom: 0.5em;}#sk-container-id-1 div.sk-estimator:hover {background-color: #d4ebff;}#sk-container-id-1 div.sk-parallel-item::after {content: \"\";width: 100%;border-bottom: 1px solid gray;flex-grow: 1;}#sk-container-id-1 div.sk-label:hover label.sk-toggleable__label {background-color: #d4ebff;}#sk-container-id-1 div.sk-serial::before {content: \"\";position: absolute;border-left: 1px solid gray;box-sizing: border-box;top: 0;bottom: 0;left: 50%;z-index: 0;}#sk-container-id-1 div.sk-serial {display: flex;flex-direction: column;align-items: center;background-color: white;padding-right: 0.2em;padding-left: 0.2em;position: relative;}#sk-container-id-1 div.sk-item {position: relative;z-index: 1;}#sk-container-id-1 div.sk-parallel {display: flex;align-items: stretch;justify-content: center;background-color: white;position: relative;}#sk-container-id-1 div.sk-item::before, #sk-container-id-1 div.sk-parallel-item::before {content: \"\";position: absolute;border-left: 1px solid gray;box-sizing: border-box;top: 0;bottom: 0;left: 50%;z-index: -1;}#sk-container-id-1 div.sk-parallel-item {display: flex;flex-direction: column;z-index: 1;position: relative;background-color: white;}#sk-container-id-1 div.sk-parallel-item:first-child::after {align-self: flex-end;width: 50%;}#sk-container-id-1 div.sk-parallel-item:last-child::after {align-self: flex-start;width: 50%;}#sk-container-id-1 div.sk-parallel-item:only-child::after {width: 0;}#sk-container-id-1 div.sk-dashed-wrapped {border: 1px dashed gray;margin: 0 0.4em 0.5em 0.4em;box-sizing: border-box;padding-bottom: 0.4em;background-color: white;}#sk-container-id-1 div.sk-label label {font-family: monospace;font-weight: bold;display: inline-block;line-height: 1.2em;}#sk-container-id-1 div.sk-label-container {text-align: center;}#sk-container-id-1 div.sk-container {/* jupyter's `normalize.less` sets `[hidden] { display: none; }` but bootstrap.min.css set `[hidden] { display: none !important; }` so we also need the `!important` here to be able to override the default hidden behavior on the sphinx rendered scikit-learn.org. See: https://github.com/scikit-learn/scikit-learn/issues/21755 */display: inline-block !important;position: relative;}#sk-container-id-1 div.sk-text-repr-fallback {display: none;}</style><div id=\"sk-container-id-1\" class=\"sk-top-container\"><div class=\"sk-text-repr-fallback\"><pre>LinearRegression()</pre><b>In a Jupyter environment, please rerun this cell to show the HTML representation or trust the notebook. <br />On GitHub, the HTML representation is unable to render, please try loading this page with nbviewer.org.</b></div><div class=\"sk-container\" hidden><div class=\"sk-item\"><div class=\"sk-estimator sk-toggleable\"><input class=\"sk-toggleable__control sk-hidden--visually\" id=\"sk-estimator-id-1\" type=\"checkbox\" checked><label for=\"sk-estimator-id-1\" class=\"sk-toggleable__label sk-toggleable__label-arrow\">LinearRegression</label><div class=\"sk-toggleable__content\"><pre>LinearRegression()</pre></div></div></div></div></div>"
      ],
      "text/plain": [
       "LinearRegression()"
      ]
     },
     "execution_count": 13,
     "metadata": {},
     "output_type": "execute_result"
    }
   ],
   "source": [
    "model.fit(x1_train,y1_train)"
   ]
  },
  {
   "cell_type": "code",
   "execution_count": 14,
   "metadata": {
    "tags": []
   },
   "outputs": [],
   "source": [
    "predicted=model.predict(x1_test)\n",
    "y1_train_predicted=model.predict(x1_train)\n",
    "y1_test_predicted=model.predict(x1_test)"
   ]
  },
  {
   "cell_type": "code",
   "execution_count": 15,
   "metadata": {
    "tags": []
   },
   "outputs": [
    {
     "data": {
      "image/png": "[encoded data removed]",
      "text/plain": [
       "<Figure size 640x480 with 1 Axes>"
      ]
     },
     "metadata": {},
     "output_type": "display_data"
    }
   ],
   "source": [
    "plt.scatter(x1_test, y1_test, color='blue', label='Test Data')\n",
    "plt.plot(x1_test, y1_test_predicted, color='red', label='Predicted Model')\n",
    "plt.ylabel('OCT-DEC')\n",
    "plt.xlabel('ANNUAL')\n",
    "plt.title('Linear Regression Predicted Model')\n",
    "plt.legend()\n",
    "plt.show()"
   ]
  },
  {
   "cell_type": "code",
   "execution_count": 16,
   "metadata": {
    "tags": []
   },
   "outputs": [],
   "source": [
    "x=data[['JUN']]\n",
    "y=data['ANNUAL']"
   ]
  },
  {
   "cell_type": "code",
   "execution_count": 17,
   "metadata": {
    "tags": []
   },
   "outputs": [],
   "source": [
    "x_train, x_test, y_train, y_test = train_test_split(x, y, test_size=0.20, random_state=0)"
   ]
  },
  {
   "cell_type": "code",
   "execution_count": 18,
   "metadata": {
    "tags": []
   },
   "outputs": [
    {
     "data": {
      "text/html": [
       "<style>#sk-container-id-2 {color: black;}#sk-container-id-2 pre{padding: 0;}#sk-container-id-2 div.sk-toggleable {background-color: white;}#sk-container-id-2 label.sk-toggleable__label {cursor: pointer;display: block;width: 100%;margin-bottom: 0;padding: 0.3em;box-sizing: border-box;text-align: center;}#sk-container-id-2 label.sk-toggleable__label-arrow:before {content: \"▸\";float: left;margin-right: 0.25em;color: #696969;}#sk-container-id-2 label.sk-toggleable__label-arrow:hover:before {color: black;}#sk-container-id-2 div.sk-estimator:hover label.sk-toggleable__label-arrow:before {color: black;}#sk-container-id-2 div.sk-toggleable__content {max-height: 0;max-width: 0;overflow: hidden;text-align: left;background-color: #f0f8ff;}#sk-container-id-2 div.sk-toggleable__content pre {margin: 0.2em;color: black;border-radius: 0.25em;background-color: #f0f8ff;}#sk-container-id-2 input.sk-toggleable__control:checked~div.sk-toggleable__content {max-height: 200px;max-width: 100%;overflow: auto;}#sk-container-id-2 input.sk-toggleable__control:checked~label.sk-toggleable__label-arrow:before {content: \"▾\";}#sk-container-id-2 div.sk-estimator input.sk-toggleable__control:checked~label.sk-toggleable__label {background-color: #d4ebff;}#sk-container-id-2 div.sk-label input.sk-toggleable__control:checked~label.sk-toggleable__label {background-color: #d4ebff;}#sk-container-id-2 input.sk-hidden--visually {border: 0;clip: rect(1px 1px 1px 1px);clip: rect(1px, 1px, 1px, 1px);height: 1px;margin: -1px;overflow: hidden;padding: 0;position: absolute;width: 1px;}#sk-container-id-2 div.sk-estimator {font-family: monospace;background-color: #f0f8ff;border: 1px dotted black;border-radius: 0.25em;box-sizing: border-box;margin-bottom: 0.5em;}#sk-container-id-2 div.sk-estimator:hover {background-color: #d4ebff;}#sk-container-id-2 div.sk-parallel-item::after {content: \"\";width: 100%;border-bottom: 1px solid gray;flex-grow: 1;}#sk-container-id-2 div.sk-label:hover label.sk-toggleable__label {background-color: #d4ebff;}#sk-container-id-2 div.sk-serial::before {content: \"\";position: absolute;border-left: 1px solid gray;box-sizing: border-box;top: 0;bottom: 0;left: 50%;z-index: 0;}#sk-container-id-2 div.sk-serial {display: flex;flex-direction: column;align-items: center;background-color: white;padding-right: 0.2em;padding-left: 0.2em;position: relative;}#sk-container-id-2 div.sk-item {position: relative;z-index: 1;}#sk-container-id-2 div.sk-parallel {display: flex;align-items: stretch;justify-content: center;background-color: white;position: relative;}#sk-container-id-2 div.sk-item::before, #sk-container-id-2 div.sk-parallel-item::before {content: \"\";position: absolute;border-left: 1px solid gray;box-sizing: border-box;top: 0;bottom: 0;left: 50%;z-index: -1;}#sk-container-id-2 div.sk-parallel-item {display: flex;flex-direction: column;z-index: 1;position: relative;background-color: white;}#sk-container-id-2 div.sk-parallel-item:first-child::after {align-self: flex-end;width: 50%;}#sk-container-id-2 div.sk-parallel-item:last-child::after {align-self: flex-start;width: 50%;}#sk-container-id-2 div.sk-parallel-item:only-child::after {width: 0;}#sk-container-id-2 div.sk-dashed-wrapped {border: 1px dashed gray;margin: 0 0.4em 0.5em 0.4em;box-sizing: border-box;padding-bottom: 0.4em;background-color: white;}#sk-container-id-2 div.sk-label label {font-family: monospace;font-weight: bold;display: inline-block;line-height: 1.2em;}#sk-container-id-2 div.sk-label-container {text-align: center;}#sk-container-id-2 div.sk-container {/* jupyter's `normalize.less` sets `[hidden] { display: none; }` but bootstrap.min.css set `[hidden] { display: none !important; }` so we also need the `!important` here to be able to override the default hidden behavior on the sphinx rendered scikit-learn.org. See: https://github.com/scikit-learn/scikit-learn/issues/21755 */display: inline-block !important;position: relative;}#sk-container-id-2 div.sk-text-repr-fallback {display: none;}</style><div id=\"sk-container-id-2\" class=\"sk-top-container\"><div class=\"sk-text-repr-fallback\"><pre>LinearRegression()</pre><b>In a Jupyter environment, please rerun this cell to show the HTML representation or trust the notebook. <br />On GitHub, the HTML representation is unable to render, please try loading this page with nbviewer.org.</b></div><div class=\"sk-container\" hidden><div class=\"sk-item\"><div class=\"sk-estimator sk-toggleable\"><input class=\"sk-toggleable__control sk-hidden--visually\" id=\"sk-estimator-id-2\" type=\"checkbox\" checked><label for=\"sk-estimator-id-2\" class=\"sk-toggleable__label sk-toggleable__label-arrow\">LinearRegression</label><div class=\"sk-toggleable__content\"><pre>LinearRegression()</pre></div></div></div></div></div>"
      ],
      "text/plain": [
       "LinearRegression()"
      ]
     },
     "execution_count": 18,
     "metadata": {},
     "output_type": "execute_result"
    }
   ],
   "source": [
    "model.fit(x_train,y_train)"
   ]
  },
  {
   "cell_type": "code",
   "execution_count": 19,
   "metadata": {
    "tags": []
   },
   "outputs": [
    {
     "data": {
      "image/png": "[encoded data removed]",
      "text/plain": [
       "<Figure size 640x480 with 1 Axes>"
      ]
     },
     "metadata": {},
     "output_type": "display_data"
    }
   ],
   "source": [
    "y_train_predicted=model.predict(x_train)\n",
    "y_test_predicted=model.predict(x_test)\n",
    "plt.scatter(x_test, y_test, color='blue', label='Test Data')\n",
    "plt.plot(x_test, y_test_predicted, color='red', label='Predicted Model')\n",
    "plt.ylabel('JUN')\n",
    "plt.xlabel('ANNUAL')\n",
    "plt.title('Linear Regression Predicted Model')\n",
    "plt.legend()\n",
    "plt.show()"
   ]
  },
  {
   "cell_type": "code",
   "execution_count": 20,
   "metadata": {
    "tags": []
   },
   "outputs": [
    {
     "name": "stdout",
     "output_type": "stream",
     "text": [
      "MSE:  0.1949471246690816\n",
      "MAE:  0.32831933122572016\n",
      "R-Sqaure :  -2.7125180395715462\n"
     ]
    }
   ],
   "source": [
    "## Training evaluation\n",
    "print(f\"MSE:  {mean_squared_error(y_train_predicted,y_train)}\")\n",
    "print(f\"MAE:  {mean_absolute_error(y_train_predicted,y_train)}\")\n",
    "print(f\"R-Sqaure :  {r2_score(y_train_predicted,y_train)}\")"
   ]
  },
  {
   "cell_type": "code",
   "execution_count": 21,
   "metadata": {
    "tags": []
   },
   "outputs": [
    {
     "name": "stdout",
     "output_type": "stream",
     "text": [
      "MSE:  3.827625396855481\n",
      "MAE:  1.9558459978387972\n",
      "R-Sqaure :  -6.262876417108747\n"
     ]
    }
   ],
   "source": [
    "## Testing evaluation\n",
    "print(f\"MSE:  {mean_squared_error(y_test,predicted)}\")\n",
    "print(f\"MAE:  {mean_absolute_error(y_test,predicted)}\")\n",
    "print(f\"R-Sqaure :  {r2_score(y_test,predicted)}\")"
   ]
  },
  {
   "cell_type": "code",
   "execution_count": 22,
   "metadata": {
    "tags": []
   },
   "outputs": [
    {
     "name": "stdout",
     "output_type": "stream",
     "text": [
      "MSE:  0.09340332898434558\n",
      "MAE:  0.24201992029544223\n",
      "R-Sqaure :  0.667806132939432\n"
     ]
    }
   ],
   "source": [
    "## Training evaluation\n",
    "print(f\"MSE:  {mean_squared_error(y1_train_predicted,y1_train)}\")\n",
    "print(f\"MAE:  {mean_absolute_error(y1_train_predicted,y1_train)}\")\n",
    "print(f\"R-Sqaure :  {r2_score(y1_train_predicted,y1_train)}\")"
   ]
  },
  {
   "cell_type": "code",
   "execution_count": 23,
   "metadata": {
    "tags": []
   },
   "outputs": [
    {
     "name": "stdout",
     "output_type": "stream",
     "text": [
      "MSE:  0.06571328479104192\n",
      "MAE:  0.20448929986352468\n",
      "R-Sqaure :  0.8902605079178999\n"
     ]
    }
   ],
   "source": [
    "## Testing evaluation\n",
    "print(f\"MSE:  {mean_squared_error(y1_test_predicted,y1_test)}\")\n",
    "print(f\"MAE:  {mean_absolute_error(y1_test_predicted,y1_test)}\")\n",
    "print(f\"R-Sqaure :  {r2_score(y1_test_predicted,y1_test)}\")"
   ]
  }
 ],
 "metadata": {
  "kernelspec": {
   "display_name": "Python 3 (ipykernel)",
   "language": "python",
   "name": "python3"
  },
  "language_info": {
   "codemirror_mode": {
    "name": "ipython",
    "version": 3
   },
   "file_extension": ".py",
   "mimetype": "text/x-python",
   "name": "python",
   "nbconvert_exporter": "python",
   "pygments_lexer": "ipython3",
   "version": "3.11.5"
  }
 },
 "nbformat": 4,
 "nbformat_minor": 4
}
